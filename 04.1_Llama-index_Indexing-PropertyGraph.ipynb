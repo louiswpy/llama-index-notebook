{
 "cells": [
  {
   "cell_type": "markdown",
   "id": "7c1472cb-ab1f-48fc-b8d2-e369baee4557",
   "metadata": {},
   "source": [
    "## Setting LLM Model"
   ]
  },
  {
   "cell_type": "code",
   "execution_count": 3,
   "id": "0d45b36d-757f-4acd-8083-995138095f70",
   "metadata": {},
   "outputs": [],
   "source": [
    "import nest_asyncio\n",
    "\n",
    "nest_asyncio.apply()"
   ]
  },
  {
   "cell_type": "code",
   "execution_count": 4,
   "id": "b0b5c8e0-4619-40e1-9141-f3196290ff92",
   "metadata": {},
   "outputs": [
    {
     "data": {
      "text/plain": [
       "True"
      ]
     },
     "execution_count": 4,
     "metadata": {},
     "output_type": "execute_result"
    }
   ],
   "source": [
    "from dotenv import load_dotenv\n",
    "import os\n",
    "\n",
    "load_dotenv()\n",
    "#print(\"Open AI - \",os.getenv(\"LITELLM_URL\"),os.getenv(\"OPENAI_API_MODEL\"), os.getenv(\"OPENAI_API_EMBEDDING\"))\n",
    "#print(\"OLLAMA  - \",os.getenv(\"OLLAMA_URL\"),os.getenv(\"OLLAMA_MODEL\"))\n",
    "#print(\"Local OLLAMA - \",os.getenv(\"OLLAMA_LOCAL_URL\"),os.getenv(\"OLLAMA_LOCAL_MODEL\"))"
   ]
  },
  {
   "cell_type": "code",
   "execution_count": 6,
   "id": "f6c5c71d-7466-40e9-a6d9-e62837f621ea",
   "metadata": {},
   "outputs": [],
   "source": [
    "from llama_index.core import Settings"
   ]
  },
  {
   "attachments": {},
   "cell_type": "markdown",
   "id": "b8a433aa-4f89-4e06-8acd-780e730536bd",
   "metadata": {},
   "source": [
    "### RUN LLM AS OLLAMA "
   ]
  },
  {
   "cell_type": "code",
   "execution_count": null,
   "id": "4008df15-e79d-4fb2-8269-08182ae74b64",
   "metadata": {},
   "outputs": [],
   "source": [
    "#install OPEN AI LLM, skip if already installed\n",
    "!pipenv install llama-index-llms-ollama"
   ]
  },
  {
   "cell_type": "code",
   "execution_count": 4,
   "id": "88433662-bed6-4bdf-8991-f02f730792b1",
   "metadata": {},
   "outputs": [
    {
     "name": "stdout",
     "output_type": "stream",
     "text": [
      "The capital of France is **Paris**. 🇫🇷  \n",
      "\n"
     ]
    }
   ],
   "source": [
    "from llama_index.llms.ollama import Ollama\n",
    "api_base=os.getenv(\"OLLAMA_LOCAL_URL\")\n",
    "model=os.getenv(\"OLLAMA_LOCAL_MODEL\")\n",
    "llm = Ollama(model=model, base_url=api_base,request_timeout=120.0)\n",
    "\n",
    "# use remote ollam\n",
    "\"\"\"\n",
    "api_base=os.getenv(\"OLLAMA_URL\")\n",
    "model=os.getenv(\"OLLAMA_MODEL\")\n",
    "llm = Ollama(model=model, base_url=api_base,request_timeout=180.0)\n",
    "\"\"\"\n",
    "#test run\n",
    "response = llm.complete(\"What is the capital of France?\")\n",
    "print(response)"
   ]
  },
  {
   "cell_type": "markdown",
   "id": "d34bf597-435b-464d-afc4-49f852d60479",
   "metadata": {},
   "source": [
    "### RUN LLM AS OPEN AI "
   ]
  },
  {
   "cell_type": "code",
   "execution_count": null,
   "id": "de10f8e1-1bef-44e4-bb0d-671a5a7ac66f",
   "metadata": {},
   "outputs": [],
   "source": [
    "#install OPEN AI LLM, skip if already installed\n",
    "!pipenv install llama-index-llms-openai"
   ]
  },
  {
   "cell_type": "code",
   "execution_count": 7,
   "id": "cca4af2b-3cbf-42b5-8a0c-eccb3e796188",
   "metadata": {},
   "outputs": [],
   "source": [
    "from llama_index.llms.openai import OpenAI\n",
    "api_base=os.getenv(\"LITELLM_URL\")\n",
    "model=os.getenv(\"OPENAI_API_MODEL\")\n",
    "\n",
    "Settings.llm = OpenAI(\n",
    "    model=model,\n",
    "    api_base = api_base,\n",
    "    temperature=0.3\n",
    ")\n",
    "\n",
    "# resp = Settings.llm.complete(\"What is the capital of France?\")\n",
    "# print(resp)"
   ]
  },
  {
   "cell_type": "markdown",
   "id": "47f57c66-5521-4e24-9197-07ce916f7491",
   "metadata": {},
   "source": [
    "## Setting Embedding Model"
   ]
  },
  {
   "cell_type": "code",
   "execution_count": 8,
   "id": "8f1d1b49-087e-49e3-906b-da53d09fd1e0",
   "metadata": {},
   "outputs": [],
   "source": [
    "# use open AI embedding\n",
    "from llama_index.embeddings.openai import OpenAIEmbedding\n",
    "api_base=os.getenv(\"LITELLM_URL\")\n",
    "embedding_model=os.getenv(\"OPENAI_API_EMBEDDING\")\n",
    "\n",
    "Settings.embed_model = OpenAIEmbedding(\n",
    "    model_name=embedding_model,\n",
    "    api_base = api_base,\n",
    ")\n",
    "\n",
    "# embed_text = Settings.embed_model.get_text_embedding(\"hello\")\n",
    "# print(f\"{len(embed_text)}, {embed_text}\")"
   ]
  },
  {
   "cell_type": "code",
   "execution_count": 10,
   "id": "77d95e37-0a0b-4c0e-ada3-45d886e2bd87",
   "metadata": {},
   "outputs": [],
   "source": [
    "from llama_index.core import Document"
   ]
  },
  {
   "cell_type": "code",
   "execution_count": 11,
   "id": "ac41ab20-3baa-4e91-b821-a08ad47d157e",
   "metadata": {},
   "outputs": [
    {
     "name": "stdout",
     "output_type": "stream",
     "text": [
      "[Document(id_='767b7a2f-4620-47be-82c0-811b3f87a38f', embedding=None, metadata={}, excluded_embed_metadata_keys=[], excluded_llm_metadata_keys=[], relationships={}, metadata_template='{key}: {value}', metadata_separator='\\n', text_resource=MediaResource(embeddings=None, data=None, text=\" Dinosaurs are a group of reptiles that dominated the land for over 140 million years (more than 160 million years in some parts of the world). They evolved diverse shapes and sizes, from the fearsome giant Spinosaurus to the chicken-sized Microraptor, and were able to survive in a variety of ecosystems.\\n\\nOne of the reasons for dinosaurs' success is that they had straight back legs, perpendicular to their bodies. This allowed them to use less energy to move than other reptiles that had a sprawling stance like today's lizards and crocodiles.\\n\\nWith their legs positioned under their bodies rather than sticking out to the side, dinosaurs' weight was also better supported.\", mimetype=None, path=None, url=None), image_resource=None, audio_resource=None, video_resource=None, text_template='{metadata_str}\\n\\n{content}')]\n"
     ]
    }
   ],
   "source": [
    "text = ''' Dinosaurs are a group of reptiles that dominated the land for over 140 million years (more than 160 million years in some parts of the world). They evolved diverse shapes and sizes, from the fearsome giant Spinosaurus to the chicken-sized Microraptor, and were able to survive in a variety of ecosystems.\n",
    "\n",
    "One of the reasons for dinosaurs' success is that they had straight back legs, perpendicular to their bodies. This allowed them to use less energy to move than other reptiles that had a sprawling stance like today's lizards and crocodiles.\n",
    "\n",
    "With their legs positioned under their bodies rather than sticking out to the side, dinosaurs' weight was also better supported.'''\n",
    "\n",
    "documents = [Document(text=text)]\n",
    "print(documents)"
   ]
  },
  {
   "cell_type": "code",
   "execution_count": 12,
   "id": "1cd28b56-ba06-4c70-a66c-67908a4ece59",
   "metadata": {},
   "outputs": [],
   "source": [
    "import logging\n",
    "import sys\n",
    "\n",
    "#logging.basicConfig(stream=sys.stdout, level=logging.INFO)\n",
    "#logging.getLogger().addHandler(logging.StreamHandler(stream=sys.stdout))\n",
    "\n",
    "from IPython.display import Markdown, display"
   ]
  },
  {
   "cell_type": "code",
   "execution_count": 13,
   "id": "acdaa091-81eb-4198-a201-5409536ba57c",
   "metadata": {},
   "outputs": [],
   "source": [
    "from llama_index.core import PropertyGraphIndex"
   ]
  },
  {
   "cell_type": "code",
   "execution_count": 14,
   "id": "1538e865-9467-4e76-a7b7-04f753702704",
   "metadata": {},
   "outputs": [],
   "source": [
    "index = PropertyGraphIndex.from_documents(documents,)"
   ]
  },
  {
   "cell_type": "code",
   "execution_count": 15,
   "id": "3fea49dd-be00-47f1-a807-af78cef7d936",
   "metadata": {},
   "outputs": [
    {
     "name": "stdout",
     "output_type": "stream",
     "text": [
      "Yes, dinosaurs are a group of reptiles.\n"
     ]
    }
   ],
   "source": [
    "query_engine = index.as_query_engine(\n",
    "    include_text=True,  # include source chunk with matching paths\n",
    "    similarity_top_k=2,  # top k for vector kg node retrieval\n",
    ")\n",
    "response = query_engine.query(\"is Dinosaurs a reptiles?\")\n",
    "\n",
    "print(response)"
   ]
  },
  {
   "cell_type": "code",
   "execution_count": 16,
   "id": "83cba5a0-cac3-474e-a8a2-e4d3e1dda40f",
   "metadata": {},
   "outputs": [],
   "source": [
    "from llama_index.core.indices.property_graph import (\n",
    "    SimpleLLMPathExtractor,\n",
    "    SchemaLLMPathExtractor,\n",
    "    DynamicLLMPathExtractor,\n",
    ")"
   ]
  },
  {
   "cell_type": "markdown",
   "id": "2e3836d5-aa38-4818-8f75-fdf1733f323a",
   "metadata": {},
   "source": [
    "### SimpleLLMPathExtractor: \n",
    "This extractor creates a basic knowledge graph without any predefined schema. It may produce a larger number of diverse relationships but might lack consistency in entity and relation naming."
   ]
  },
  {
   "cell_type": "code",
   "execution_count": 17,
   "id": "20db9ea9-7946-4578-b999-99767913f3fa",
   "metadata": {},
   "outputs": [
    {
     "data": {
      "application/vnd.jupyter.widget-view+json": {
       "model_id": "f8a90a91f0cf4a1ea5960a3e4e167063",
       "version_major": 2,
       "version_minor": 0
      },
      "text/plain": [
       "Parsing nodes:   0%|          | 0/1 [00:00<?, ?it/s]"
      ]
     },
     "metadata": {},
     "output_type": "display_data"
    },
    {
     "name": "stderr",
     "output_type": "stream",
     "text": [
      "Extracting paths from text: 100%|█████████████████████████████████████████████████████████████████████| 1/1 [00:01<00:00,  1.65s/it]\n"
     ]
    }
   ],
   "source": [
    "\n",
    "kg_extractor = SimpleLLMPathExtractor(\n",
    "    llm=Settings.llm, max_paths_per_chunk=20, num_workers=4\n",
    ")\n",
    "simple_index = PropertyGraphIndex.from_documents(\n",
    "    documents,\n",
    "    llm=Settings.llm,\n",
    "    embed_kg_nodes=False,\n",
    "    kg_extractors=[kg_extractor],\n",
    "    show_progress=True,\n",
    ")"
   ]
  },
  {
   "cell_type": "code",
   "execution_count": 18,
   "id": "3d3f7964-7aeb-454f-ae35-de931bd3c05d",
   "metadata": {},
   "outputs": [
    {
     "data": {
      "text/plain": [
       "{'nodes': {'ccbe7b88-1414-41a1-98b5-600547d44dcf': {'label': 'text_chunk',\n",
       "   'embedding': None,\n",
       "   'properties': {'_node_content': '{\"id_\": \"ccbe7b88-1414-41a1-98b5-600547d44dcf\", \"embedding\": null, \"metadata\": {}, \"excluded_embed_metadata_keys\": [], \"excluded_llm_metadata_keys\": [], \"relationships\": {\"1\": {\"node_id\": \"767b7a2f-4620-47be-82c0-811b3f87a38f\", \"node_type\": \"4\", \"metadata\": {}, \"hash\": \"da82e7fff1801bdab3edbff29b0826306aa4c4dd1d2633b924ae7fdcc9a763f7\", \"class_name\": \"RelatedNodeInfo\"}}, \"metadata_template\": \"{key}: {value}\", \"metadata_separator\": \"\\\\n\", \"text\": \"\", \"mimetype\": \"text/plain\", \"start_char_idx\": 0, \"end_char_idx\": 675, \"metadata_seperator\": \"\\\\n\", \"text_template\": \"{metadata_str}\\\\n\\\\n{content}\", \"class_name\": \"TextNode\"}',\n",
       "    '_node_type': 'TextNode',\n",
       "    'document_id': '767b7a2f-4620-47be-82c0-811b3f87a38f',\n",
       "    'doc_id': '767b7a2f-4620-47be-82c0-811b3f87a38f',\n",
       "    'ref_doc_id': '767b7a2f-4620-47be-82c0-811b3f87a38f'},\n",
       "   'text': \"Dinosaurs are a group of reptiles that dominated the land for over 140 million years (more than 160 million years in some parts of the world). They evolved diverse shapes and sizes, from the fearsome giant Spinosaurus to the chicken-sized Microraptor, and were able to survive in a variety of ecosystems.\\n\\nOne of the reasons for dinosaurs' success is that they had straight back legs, perpendicular to their bodies. This allowed them to use less energy to move than other reptiles that had a sprawling stance like today's lizards and crocodiles.\\n\\nWith their legs positioned under their bodies rather than sticking out to the side, dinosaurs' weight was also better supported.\",\n",
       "   'id_': 'ccbe7b88-1414-41a1-98b5-600547d44dcf'},\n",
       "  'Dinosaurs': {'label': 'entity',\n",
       "   'embedding': None,\n",
       "   'properties': {'triplet_source_id': 'ccbe7b88-1414-41a1-98b5-600547d44dcf'},\n",
       "   'name': 'Dinosaurs'},\n",
       "  'Group of reptiles': {'label': 'entity',\n",
       "   'embedding': None,\n",
       "   'properties': {'triplet_source_id': 'ccbe7b88-1414-41a1-98b5-600547d44dcf'},\n",
       "   'name': 'Group of reptiles'},\n",
       "  'Land': {'label': 'entity',\n",
       "   'embedding': None,\n",
       "   'properties': {'triplet_source_id': 'ccbe7b88-1414-41a1-98b5-600547d44dcf'},\n",
       "   'name': 'Land'},\n",
       "  'Over 140 million years': {'label': 'entity',\n",
       "   'embedding': None,\n",
       "   'properties': {'triplet_source_id': 'ccbe7b88-1414-41a1-98b5-600547d44dcf'},\n",
       "   'name': 'Over 140 million years'},\n",
       "  'Diverse shapes and sizes': {'label': 'entity',\n",
       "   'embedding': None,\n",
       "   'properties': {'triplet_source_id': 'ccbe7b88-1414-41a1-98b5-600547d44dcf'},\n",
       "   'name': 'Diverse shapes and sizes'},\n",
       "  'Spinosaurus': {'label': 'entity',\n",
       "   'embedding': None,\n",
       "   'properties': {'triplet_source_id': 'ccbe7b88-1414-41a1-98b5-600547d44dcf'},\n",
       "   'name': 'Spinosaurus'},\n",
       "  'Giant': {'label': 'entity',\n",
       "   'embedding': None,\n",
       "   'properties': {'triplet_source_id': 'ccbe7b88-1414-41a1-98b5-600547d44dcf'},\n",
       "   'name': 'Giant'},\n",
       "  'Microraptor': {'label': 'entity',\n",
       "   'embedding': None,\n",
       "   'properties': {'triplet_source_id': 'ccbe7b88-1414-41a1-98b5-600547d44dcf'},\n",
       "   'name': 'Microraptor'},\n",
       "  'Chicken-sized': {'label': 'entity',\n",
       "   'embedding': None,\n",
       "   'properties': {'triplet_source_id': 'ccbe7b88-1414-41a1-98b5-600547d44dcf'},\n",
       "   'name': 'Chicken-sized'},\n",
       "  'Variety of ecosystems': {'label': 'entity',\n",
       "   'embedding': None,\n",
       "   'properties': {'triplet_source_id': 'ccbe7b88-1414-41a1-98b5-600547d44dcf'},\n",
       "   'name': 'Variety of ecosystems'},\n",
       "  'Straight back legs': {'label': 'entity',\n",
       "   'embedding': None,\n",
       "   'properties': {'triplet_source_id': 'ccbe7b88-1414-41a1-98b5-600547d44dcf'},\n",
       "   'name': 'Straight back legs'},\n",
       "  'Perpendicular to bodies': {'label': 'entity',\n",
       "   'embedding': None,\n",
       "   'properties': {'triplet_source_id': 'ccbe7b88-1414-41a1-98b5-600547d44dcf'},\n",
       "   'name': 'Perpendicular to bodies'},\n",
       "  'Less energy to move': {'label': 'entity',\n",
       "   'embedding': None,\n",
       "   'properties': {'triplet_source_id': 'ccbe7b88-1414-41a1-98b5-600547d44dcf'},\n",
       "   'name': 'Less energy to move'},\n",
       "  'Reptiles': {'label': 'entity',\n",
       "   'embedding': None,\n",
       "   'properties': {'triplet_source_id': 'ccbe7b88-1414-41a1-98b5-600547d44dcf'},\n",
       "   'name': 'Reptiles'},\n",
       "  'Sprawling stance': {'label': 'entity',\n",
       "   'embedding': None,\n",
       "   'properties': {'triplet_source_id': 'ccbe7b88-1414-41a1-98b5-600547d44dcf'},\n",
       "   'name': 'Sprawling stance'},\n",
       "  \"Today's lizards and crocodiles\": {'label': 'entity',\n",
       "   'embedding': None,\n",
       "   'properties': {'triplet_source_id': 'ccbe7b88-1414-41a1-98b5-600547d44dcf'},\n",
       "   'name': \"Today's lizards and crocodiles\"},\n",
       "  'Legs under bodies': {'label': 'entity',\n",
       "   'embedding': None,\n",
       "   'properties': {'triplet_source_id': 'ccbe7b88-1414-41a1-98b5-600547d44dcf'},\n",
       "   'name': 'Legs under bodies'},\n",
       "  \"Dinosaurs' weight\": {'label': 'entity',\n",
       "   'embedding': None,\n",
       "   'properties': {'triplet_source_id': 'ccbe7b88-1414-41a1-98b5-600547d44dcf'},\n",
       "   'name': \"Dinosaurs' weight\"},\n",
       "  'Better supported': {'label': 'entity',\n",
       "   'embedding': None,\n",
       "   'properties': {'triplet_source_id': 'ccbe7b88-1414-41a1-98b5-600547d44dcf'},\n",
       "   'name': 'Better supported'}},\n",
       " 'relations': {'Dinosaurs_Are_Group of reptiles': {'label': 'Are',\n",
       "   'source_id': 'Dinosaurs',\n",
       "   'target_id': 'Group of reptiles',\n",
       "   'properties': {'triplet_source_id': 'ccbe7b88-1414-41a1-98b5-600547d44dcf'}},\n",
       "  'Dinosaurs_Dominated_Land': {'label': 'Dominated',\n",
       "   'source_id': 'Dinosaurs',\n",
       "   'target_id': 'Land',\n",
       "   'properties': {'triplet_source_id': 'ccbe7b88-1414-41a1-98b5-600547d44dcf'}},\n",
       "  'Dinosaurs_For_Over 140 million years': {'label': 'For',\n",
       "   'source_id': 'Dinosaurs',\n",
       "   'target_id': 'Over 140 million years',\n",
       "   'properties': {'triplet_source_id': 'ccbe7b88-1414-41a1-98b5-600547d44dcf'}},\n",
       "  'Dinosaurs_Evolved_Diverse shapes and sizes': {'label': 'Evolved',\n",
       "   'source_id': 'Dinosaurs',\n",
       "   'target_id': 'Diverse shapes and sizes',\n",
       "   'properties': {'triplet_source_id': 'ccbe7b88-1414-41a1-98b5-600547d44dcf'}},\n",
       "  'Spinosaurus_Is_Giant': {'label': 'Is',\n",
       "   'source_id': 'Spinosaurus',\n",
       "   'target_id': 'Giant',\n",
       "   'properties': {'triplet_source_id': 'ccbe7b88-1414-41a1-98b5-600547d44dcf'}},\n",
       "  'Microraptor_Is_Chicken-sized': {'label': 'Is',\n",
       "   'source_id': 'Microraptor',\n",
       "   'target_id': 'Chicken-sized',\n",
       "   'properties': {'triplet_source_id': 'ccbe7b88-1414-41a1-98b5-600547d44dcf'}},\n",
       "  'Dinosaurs_Survived_Variety of ecosystems': {'label': 'Survived',\n",
       "   'source_id': 'Dinosaurs',\n",
       "   'target_id': 'Variety of ecosystems',\n",
       "   'properties': {'triplet_source_id': 'ccbe7b88-1414-41a1-98b5-600547d44dcf'}},\n",
       "  'Dinosaurs_Had_Straight back legs': {'label': 'Had',\n",
       "   'source_id': 'Dinosaurs',\n",
       "   'target_id': 'Straight back legs',\n",
       "   'properties': {'triplet_source_id': 'ccbe7b88-1414-41a1-98b5-600547d44dcf'}},\n",
       "  'Straight back legs_Are_Perpendicular to bodies': {'label': 'Are',\n",
       "   'source_id': 'Straight back legs',\n",
       "   'target_id': 'Perpendicular to bodies',\n",
       "   'properties': {'triplet_source_id': 'ccbe7b88-1414-41a1-98b5-600547d44dcf'}},\n",
       "  'Dinosaurs_Used_Less energy to move': {'label': 'Used',\n",
       "   'source_id': 'Dinosaurs',\n",
       "   'target_id': 'Less energy to move',\n",
       "   'properties': {'triplet_source_id': 'ccbe7b88-1414-41a1-98b5-600547d44dcf'}},\n",
       "  'Reptiles_Had_Sprawling stance': {'label': 'Had',\n",
       "   'source_id': 'Reptiles',\n",
       "   'target_id': 'Sprawling stance',\n",
       "   'properties': {'triplet_source_id': 'ccbe7b88-1414-41a1-98b5-600547d44dcf'}},\n",
       "  \"Reptiles_Are_Today's lizards and crocodiles\": {'label': 'Are',\n",
       "   'source_id': 'Reptiles',\n",
       "   'target_id': \"Today's lizards and crocodiles\",\n",
       "   'properties': {'triplet_source_id': 'ccbe7b88-1414-41a1-98b5-600547d44dcf'}},\n",
       "  'Dinosaurs_Positioned_Legs under bodies': {'label': 'Positioned',\n",
       "   'source_id': 'Dinosaurs',\n",
       "   'target_id': 'Legs under bodies',\n",
       "   'properties': {'triplet_source_id': 'ccbe7b88-1414-41a1-98b5-600547d44dcf'}},\n",
       "  \"Dinosaurs' weight_Was_Better supported\": {'label': 'Was',\n",
       "   'source_id': \"Dinosaurs' weight\",\n",
       "   'target_id': 'Better supported',\n",
       "   'properties': {'triplet_source_id': 'ccbe7b88-1414-41a1-98b5-600547d44dcf'}}},\n",
       " 'triplets': {('Dinosaurs', 'Are', 'Group of reptiles'),\n",
       "  ('Dinosaurs', 'Dominated', 'Land'),\n",
       "  ('Dinosaurs', 'Evolved', 'Diverse shapes and sizes'),\n",
       "  ('Dinosaurs', 'For', 'Over 140 million years'),\n",
       "  ('Dinosaurs', 'Had', 'Straight back legs'),\n",
       "  ('Dinosaurs', 'Positioned', 'Legs under bodies'),\n",
       "  ('Dinosaurs', 'Survived', 'Variety of ecosystems'),\n",
       "  ('Dinosaurs', 'Used', 'Less energy to move'),\n",
       "  (\"Dinosaurs' weight\", 'Was', 'Better supported'),\n",
       "  ('Microraptor', 'Is', 'Chicken-sized'),\n",
       "  ('Reptiles', 'Are', \"Today's lizards and crocodiles\"),\n",
       "  ('Reptiles', 'Had', 'Sprawling stance'),\n",
       "  ('Spinosaurus', 'Is', 'Giant'),\n",
       "  ('Straight back legs', 'Are', 'Perpendicular to bodies')}}"
      ]
     },
     "execution_count": 18,
     "metadata": {},
     "output_type": "execute_result"
    }
   ],
   "source": [
    "simple_index.property_graph_store.to_dict()"
   ]
  },
  {
   "cell_type": "code",
   "execution_count": null,
   "id": "d26f664c-886a-418e-97b5-7602337f40d8",
   "metadata": {},
   "outputs": [],
   "source": [
    "!pipenv install yfiles_jupyter_graphs"
   ]
  },
  {
   "cell_type": "code",
   "execution_count": 16,
   "id": "84575054-df50-49ad-9bd1-e1a335a71310",
   "metadata": {},
   "outputs": [],
   "source": [
    "simple_index.property_graph_store.save_networkx_graph(\n",
    "    name=\"./SimpleGraph.html\"\n",
    ")"
   ]
  },
  {
   "cell_type": "code",
   "execution_count": 17,
   "id": "3b5f4881-e5b1-4c72-8eae-3d15c96fd6a1",
   "metadata": {},
   "outputs": [
    {
     "data": {
      "application/vnd.jupyter.widget-view+json": {
       "model_id": "61c207d28dc14682a2c6fd660ddb4293",
       "version_major": 2,
       "version_minor": 0
      },
      "text/plain": [
       "GraphWidget(layout=Layout(height='760px', width='100%'))"
      ]
     },
     "metadata": {},
     "output_type": "display_data"
    }
   ],
   "source": [
    "simple_index.property_graph_store.show_jupyter_graph()"
   ]
  },
  {
   "cell_type": "code",
   "execution_count": 19,
   "id": "57427bf6-a066-4b77-a5fb-1ddc4059cf0b",
   "metadata": {},
   "outputs": [
    {
     "name": "stdout",
     "output_type": "stream",
     "text": [
      "Yes, dinosaurs are a group of reptiles.\n"
     ]
    }
   ],
   "source": [
    "query_engine = index.as_query_engine(\n",
    "    include_text=True,  # include source chunk with matching paths\n",
    "    similarity_top_k=2,  # top k for vector kg node retrieval\n",
    ")\n",
    "response = query_engine.query(\"is Dinosaurs a reptiles?\")\n",
    "\n",
    "print(response)"
   ]
  },
  {
   "cell_type": "markdown",
   "id": "887b6319-510c-404d-ae8a-1569f8c4cc5f",
   "metadata": {},
   "source": [
    "### SchemaLLMPathExtractor\n",
    "With a predefined schema, this extractor produces a more structured graph. The entities and relations are limited to those specified in the schema, which can lead to a more consistent but potentially less comprehensive graph. Even if we set \"strict\" to false, the extracted KG Graph doesn't reflect the LLM's pursuit of trying to find new entities and types that fall outside of the input schema's scope"
   ]
  },
  {
   "cell_type": "code",
   "execution_count": 20,
   "id": "6a1b73ed-3c35-4c6c-8254-9b3dda7ca1b3",
   "metadata": {},
   "outputs": [
    {
     "data": {
      "application/vnd.jupyter.widget-view+json": {
       "model_id": "91a1a26dc675433da6700eba393f50e8",
       "version_major": 2,
       "version_minor": 0
      },
      "text/plain": [
       "Parsing nodes:   0%|          | 0/1 [00:00<?, ?it/s]"
      ]
     },
     "metadata": {},
     "output_type": "display_data"
    },
    {
     "name": "stderr",
     "output_type": "stream",
     "text": [
      "Extracting paths from text with schema: 100%|█████████████████████████████████████████████████████████| 1/1 [00:07<00:00,  7.62s/it]\n"
     ]
    }
   ],
   "source": [
    "kg_schema_extractor = SchemaLLMPathExtractor(\n",
    "    llm=Settings.llm,\n",
    "    max_triplets_per_chunk=20,\n",
    "    strict=False,  # Set to False to showcase why it's not going to be the same as DynamicLLMPathExtractor\n",
    "    possible_entities=None,  # USE DEFAULT ENTITIES (PERSON, ORGANIZATION... etc)\n",
    "    possible_relations=None,  # USE DEFAULT RELATIONSHIPS\n",
    "    possible_relation_props=[\n",
    "        \"extra_description\"\n",
    "    ],  # Set to `None` to skip property generation\n",
    "    possible_entity_props=[\n",
    "        \"extra_description\"\n",
    "    ],  # Set to `None` to skip property generation\n",
    "    num_workers=4,\n",
    ")\n",
    "\n",
    "schema_index = PropertyGraphIndex.from_documents(\n",
    "    documents,\n",
    "    llm=Settings.llm,\n",
    "    embed_kg_nodes=False,\n",
    "    kg_extractors=[kg_schema_extractor],\n",
    "    show_progress=True,\n",
    ")\n",
    "\n",
    "schema_index.property_graph_store.save_networkx_graph(\n",
    "    name=\"./SchemaGraph.html\"\n",
    ")"
   ]
  },
  {
   "cell_type": "code",
   "execution_count": 28,
   "id": "f29f8b47-ef63-4677-a886-a8d9db200507",
   "metadata": {},
   "outputs": [
    {
     "data": {
      "text/plain": [
       "{'nodes': {'84fb98a8-f4cd-483d-a3c1-91922bce90e7': {'label': 'text_chunk',\n",
       "   'embedding': None,\n",
       "   'properties': {'_node_content': '{\"id_\": \"84fb98a8-f4cd-483d-a3c1-91922bce90e7\", \"embedding\": null, \"metadata\": {}, \"excluded_embed_metadata_keys\": [], \"excluded_llm_metadata_keys\": [], \"relationships\": {\"1\": {\"node_id\": \"3980c4c8-9760-49f7-8d56-b8b82d2e6bbc\", \"node_type\": \"4\", \"metadata\": {}, \"hash\": \"da82e7fff1801bdab3edbff29b0826306aa4c4dd1d2633b924ae7fdcc9a763f7\", \"class_name\": \"RelatedNodeInfo\"}}, \"metadata_template\": \"{key}: {value}\", \"metadata_separator\": \"\\\\n\", \"text\": \"\", \"mimetype\": \"text/plain\", \"start_char_idx\": 0, \"end_char_idx\": 675, \"metadata_seperator\": \"\\\\n\", \"text_template\": \"{metadata_str}\\\\n\\\\n{content}\", \"class_name\": \"TextNode\"}',\n",
       "    '_node_type': 'TextNode',\n",
       "    'document_id': '3980c4c8-9760-49f7-8d56-b8b82d2e6bbc',\n",
       "    'doc_id': '3980c4c8-9760-49f7-8d56-b8b82d2e6bbc',\n",
       "    'ref_doc_id': '3980c4c8-9760-49f7-8d56-b8b82d2e6bbc'},\n",
       "   'text': \"Dinosaurs are a group of reptiles that dominated the land for over 140 million years (more than 160 million years in some parts of the world). They evolved diverse shapes and sizes, from the fearsome giant Spinosaurus to the chicken-sized Microraptor, and were able to survive in a variety of ecosystems.\\n\\nOne of the reasons for dinosaurs' success is that they had straight back legs, perpendicular to their bodies. This allowed them to use less energy to move than other reptiles that had a sprawling stance like today's lizards and crocodiles.\\n\\nWith their legs positioned under their bodies rather than sticking out to the side, dinosaurs' weight was also better supported.\",\n",
       "   'id_': '84fb98a8-f4cd-483d-a3c1-91922bce90e7'},\n",
       "  'Dinosaurs': {'label': 'CONCEPT',\n",
       "   'embedding': None,\n",
       "   'properties': {'extra_description': 'Had straight back legs.',\n",
       "    'triplet_source_id': '84fb98a8-f4cd-483d-a3c1-91922bce90e7'},\n",
       "   'name': 'Dinosaurs'},\n",
       "  'Reptiles': {'label': 'MISCELLANEOUS',\n",
       "   'embedding': None,\n",
       "   'properties': {'triplet_source_id': '84fb98a8-f4cd-483d-a3c1-91922bce90e7'},\n",
       "   'name': 'Reptiles'},\n",
       "  'Spinosaurus': {'label': 'PRODUCT',\n",
       "   'embedding': None,\n",
       "   'properties': {'extra_description': 'A fearsome giant dinosaur.',\n",
       "    'triplet_source_id': '84fb98a8-f4cd-483d-a3c1-91922bce90e7'},\n",
       "   'name': 'Spinosaurus'},\n",
       "  'Microraptor': {'label': 'PRODUCT',\n",
       "   'embedding': None,\n",
       "   'properties': {'extra_description': 'A chicken-sized dinosaur.',\n",
       "    'triplet_source_id': '84fb98a8-f4cd-483d-a3c1-91922bce90e7'},\n",
       "   'name': 'Microraptor'},\n",
       "  'Ecosystems': {'label': 'CONCEPT',\n",
       "   'embedding': None,\n",
       "   'properties': {'triplet_source_id': '84fb98a8-f4cd-483d-a3c1-91922bce90e7'},\n",
       "   'name': 'Ecosystems'},\n",
       "  'Legs': {'label': 'CONCEPT',\n",
       "   'embedding': None,\n",
       "   'properties': {'extra_description': 'Positioned under their bodies.',\n",
       "    'triplet_source_id': '84fb98a8-f4cd-483d-a3c1-91922bce90e7'},\n",
       "   'name': 'Legs'},\n",
       "  'Movement': {'label': 'CONCEPT',\n",
       "   'embedding': None,\n",
       "   'properties': {'triplet_source_id': '84fb98a8-f4cd-483d-a3c1-91922bce90e7'},\n",
       "   'name': 'Movement'},\n",
       "  'Weight Support': {'label': 'CONCEPT',\n",
       "   'embedding': None,\n",
       "   'properties': {'triplet_source_id': '84fb98a8-f4cd-483d-a3c1-91922bce90e7'},\n",
       "   'name': 'Weight Support'},\n",
       "  '140 million years': {'label': 'TIME',\n",
       "   'embedding': None,\n",
       "   'properties': {'triplet_source_id': '84fb98a8-f4cd-483d-a3c1-91922bce90e7'},\n",
       "   'name': '140 million years'},\n",
       "  'Diversity': {'label': 'CONCEPT',\n",
       "   'embedding': None,\n",
       "   'properties': {'triplet_source_id': '84fb98a8-f4cd-483d-a3c1-91922bce90e7'},\n",
       "   'name': 'Diversity'},\n",
       "  'Lizards': {'label': 'MISCELLANEOUS',\n",
       "   'embedding': None,\n",
       "   'properties': {'triplet_source_id': '84fb98a8-f4cd-483d-a3c1-91922bce90e7'},\n",
       "   'name': 'Lizards'},\n",
       "  'Crocodiles': {'label': 'MISCELLANEOUS',\n",
       "   'embedding': None,\n",
       "   'properties': {'triplet_source_id': '84fb98a8-f4cd-483d-a3c1-91922bce90e7'},\n",
       "   'name': 'Crocodiles'},\n",
       "  'Energy Efficiency': {'label': 'CONCEPT',\n",
       "   'embedding': None,\n",
       "   'properties': {'triplet_source_id': '84fb98a8-f4cd-483d-a3c1-91922bce90e7'},\n",
       "   'name': 'Energy Efficiency'},\n",
       "  'Leg Structure': {'label': 'CONCEPT',\n",
       "   'embedding': None,\n",
       "   'properties': {'triplet_source_id': '84fb98a8-f4cd-483d-a3c1-91922bce90e7'},\n",
       "   'name': 'Leg Structure'},\n",
       "  'Biodiversity': {'label': 'MISCELLANEOUS',\n",
       "   'embedding': None,\n",
       "   'properties': {'triplet_source_id': '84fb98a8-f4cd-483d-a3c1-91922bce90e7'},\n",
       "   'name': 'Biodiversity'},\n",
       "  'Morphology': {'label': 'CONCEPT',\n",
       "   'embedding': None,\n",
       "   'properties': {'triplet_source_id': '84fb98a8-f4cd-483d-a3c1-91922bce90e7'},\n",
       "   'name': 'Morphology'},\n",
       "  'Land': {'label': 'LOCATION',\n",
       "   'embedding': None,\n",
       "   'properties': {'triplet_source_id': '84fb98a8-f4cd-483d-a3c1-91922bce90e7'},\n",
       "   'name': 'Land'},\n",
       "  'Energy Usage': {'label': 'CONCEPT',\n",
       "   'embedding': None,\n",
       "   'properties': {'triplet_source_id': '84fb98a8-f4cd-483d-a3c1-91922bce90e7'},\n",
       "   'name': 'Energy Usage'},\n",
       "  'Posture': {'label': 'CONCEPT',\n",
       "   'embedding': None,\n",
       "   'properties': {'triplet_source_id': '84fb98a8-f4cd-483d-a3c1-91922bce90e7'},\n",
       "   'name': 'Posture'}},\n",
       " 'relations': {'Dinosaurs_IS_A_Reptiles': {'label': 'IS_A',\n",
       "   'source_id': 'Dinosaurs',\n",
       "   'target_id': 'Reptiles',\n",
       "   'properties': {'triplet_source_id': '84fb98a8-f4cd-483d-a3c1-91922bce90e7'}},\n",
       "  'Dinosaurs_HAS_Spinosaurus': {'label': 'HAS',\n",
       "   'source_id': 'Dinosaurs',\n",
       "   'target_id': 'Spinosaurus',\n",
       "   'properties': {'triplet_source_id': '84fb98a8-f4cd-483d-a3c1-91922bce90e7'}},\n",
       "  'Dinosaurs_HAS_Microraptor': {'label': 'HAS',\n",
       "   'source_id': 'Dinosaurs',\n",
       "   'target_id': 'Microraptor',\n",
       "   'properties': {'triplet_source_id': '84fb98a8-f4cd-483d-a3c1-91922bce90e7'}},\n",
       "  'Dinosaurs_USED_FOR_Ecosystems': {'label': 'USED_FOR',\n",
       "   'source_id': 'Dinosaurs',\n",
       "   'target_id': 'Ecosystems',\n",
       "   'properties': {'triplet_source_id': '84fb98a8-f4cd-483d-a3c1-91922bce90e7'}},\n",
       "  'Dinosaurs_HAS_Legs': {'label': 'HAS',\n",
       "   'source_id': 'Dinosaurs',\n",
       "   'target_id': 'Legs',\n",
       "   'properties': {'triplet_source_id': '84fb98a8-f4cd-483d-a3c1-91922bce90e7'}},\n",
       "  'Dinosaurs_USED_FOR_Movement': {'label': 'USED_FOR',\n",
       "   'source_id': 'Dinosaurs',\n",
       "   'target_id': 'Movement',\n",
       "   'properties': {'triplet_source_id': '84fb98a8-f4cd-483d-a3c1-91922bce90e7'}},\n",
       "  'Dinosaurs_HAS_Weight Support': {'label': 'HAS',\n",
       "   'source_id': 'Dinosaurs',\n",
       "   'target_id': 'Weight Support',\n",
       "   'properties': {'triplet_source_id': '84fb98a8-f4cd-483d-a3c1-91922bce90e7'}},\n",
       "  'Dinosaurs_PART_OF_140 million years': {'label': 'PART_OF',\n",
       "   'source_id': 'Dinosaurs',\n",
       "   'target_id': '140 million years',\n",
       "   'properties': {'triplet_source_id': '84fb98a8-f4cd-483d-a3c1-91922bce90e7'}},\n",
       "  'Dinosaurs_USED_FOR_Diversity': {'label': 'USED_FOR',\n",
       "   'source_id': 'Dinosaurs',\n",
       "   'target_id': 'Diversity',\n",
       "   'properties': {'triplet_source_id': '84fb98a8-f4cd-483d-a3c1-91922bce90e7'}},\n",
       "  'Dinosaurs_HAS_Lizards': {'label': 'HAS',\n",
       "   'source_id': 'Dinosaurs',\n",
       "   'target_id': 'Lizards',\n",
       "   'properties': {'triplet_source_id': '84fb98a8-f4cd-483d-a3c1-91922bce90e7'}},\n",
       "  'Dinosaurs_HAS_Crocodiles': {'label': 'HAS',\n",
       "   'source_id': 'Dinosaurs',\n",
       "   'target_id': 'Crocodiles',\n",
       "   'properties': {'triplet_source_id': '84fb98a8-f4cd-483d-a3c1-91922bce90e7'}},\n",
       "  'Dinosaurs_USED_FOR_Energy Efficiency': {'label': 'USED_FOR',\n",
       "   'source_id': 'Dinosaurs',\n",
       "   'target_id': 'Energy Efficiency',\n",
       "   'properties': {'triplet_source_id': '84fb98a8-f4cd-483d-a3c1-91922bce90e7'}},\n",
       "  'Dinosaurs_IS_A_Leg Structure': {'label': 'IS_A',\n",
       "   'source_id': 'Dinosaurs',\n",
       "   'target_id': 'Leg Structure',\n",
       "   'properties': {'triplet_source_id': '84fb98a8-f4cd-483d-a3c1-91922bce90e7'}},\n",
       "  'Dinosaurs_PART_OF_Biodiversity': {'label': 'PART_OF',\n",
       "   'source_id': 'Dinosaurs',\n",
       "   'target_id': 'Biodiversity',\n",
       "   'properties': {'triplet_source_id': '84fb98a8-f4cd-483d-a3c1-91922bce90e7'}},\n",
       "  'Dinosaurs_HAS_Morphology': {'label': 'HAS',\n",
       "   'source_id': 'Dinosaurs',\n",
       "   'target_id': 'Morphology',\n",
       "   'properties': {'triplet_source_id': '84fb98a8-f4cd-483d-a3c1-91922bce90e7'}},\n",
       "  'Dinosaurs_LOCATED_IN_Land': {'label': 'LOCATED_IN',\n",
       "   'source_id': 'Dinosaurs',\n",
       "   'target_id': 'Land',\n",
       "   'properties': {'triplet_source_id': '84fb98a8-f4cd-483d-a3c1-91922bce90e7'}},\n",
       "  'Dinosaurs_HAS_Energy Usage': {'label': 'HAS',\n",
       "   'source_id': 'Dinosaurs',\n",
       "   'target_id': 'Energy Usage',\n",
       "   'properties': {'triplet_source_id': '84fb98a8-f4cd-483d-a3c1-91922bce90e7'}},\n",
       "  'Dinosaurs_HAS_Posture': {'label': 'HAS',\n",
       "   'source_id': 'Dinosaurs',\n",
       "   'target_id': 'Posture',\n",
       "   'properties': {'triplet_source_id': '84fb98a8-f4cd-483d-a3c1-91922bce90e7'}}},\n",
       " 'triplets': {('Dinosaurs', 'HAS', 'Crocodiles'),\n",
       "  ('Dinosaurs', 'HAS', 'Energy Usage'),\n",
       "  ('Dinosaurs', 'HAS', 'Legs'),\n",
       "  ('Dinosaurs', 'HAS', 'Lizards'),\n",
       "  ('Dinosaurs', 'HAS', 'Microraptor'),\n",
       "  ('Dinosaurs', 'HAS', 'Morphology'),\n",
       "  ('Dinosaurs', 'HAS', 'Posture'),\n",
       "  ('Dinosaurs', 'HAS', 'Spinosaurus'),\n",
       "  ('Dinosaurs', 'HAS', 'Weight Support'),\n",
       "  ('Dinosaurs', 'IS_A', 'Leg Structure'),\n",
       "  ('Dinosaurs', 'IS_A', 'Reptiles'),\n",
       "  ('Dinosaurs', 'LOCATED_IN', 'Land'),\n",
       "  ('Dinosaurs', 'PART_OF', '140 million years'),\n",
       "  ('Dinosaurs', 'PART_OF', 'Biodiversity'),\n",
       "  ('Dinosaurs', 'USED_FOR', 'Diversity'),\n",
       "  ('Dinosaurs', 'USED_FOR', 'Ecosystems'),\n",
       "  ('Dinosaurs', 'USED_FOR', 'Energy Efficiency'),\n",
       "  ('Dinosaurs', 'USED_FOR', 'Movement')}}"
      ]
     },
     "execution_count": 28,
     "metadata": {},
     "output_type": "execute_result"
    }
   ],
   "source": [
    "schema_index.property_graph_store.to_dict()"
   ]
  },
  {
   "cell_type": "code",
   "execution_count": 21,
   "id": "3ed6dcf0-8f54-45e0-9dc6-4fbeb66ada30",
   "metadata": {},
   "outputs": [
    {
     "name": "stdout",
     "output_type": "stream",
     "text": [
      "Yes, dinosaurs are classified as reptiles.\n"
     ]
    }
   ],
   "source": [
    "query_engine = schema_index.as_query_engine(\n",
    "    include_text=True,  # include source chunk with matching paths\n",
    "    similarity_top_k=2,  # top k for vector kg node retrieval\n",
    ")\n",
    "response = query_engine.query(\"is Dinosaurs a reptiles?\")\n",
    "\n",
    "print(response)"
   ]
  },
  {
   "cell_type": "markdown",
   "id": "7cced76f-e0ad-4e93-b9f3-0a9ad10e892c",
   "metadata": {},
   "source": [
    "### DynamicLLMPathExtractor\n",
    "This new extractor combines the flexibility of SimpleLLMPathExtractor with some initial guidance from a schema. It can expand beyond the initial entity and relation types, potentially producing a rich and diverse graph while maintaining some level of consistency.\n",
    "Not giving it any entities or relations to start with in the input gives the LLM complete freedom to infer the schema on the fly as it best sees fit. This is going to vary based on the LLM and the temperature used."
   ]
  },
  {
   "cell_type": "code",
   "execution_count": 22,
   "id": "9caf10bf-3f27-4f64-b6b9-53d311bcef98",
   "metadata": {},
   "outputs": [],
   "source": [
    "kg_dynamic_extractor = DynamicLLMPathExtractor(\n",
    "    llm=Settings.llm,\n",
    "    max_triplets_per_chunk=20,\n",
    "    num_workers=4,\n",
    "    # Let the LLM infer entities and their labels (types) on the fly\n",
    "    allowed_entity_types=None,\n",
    "    # Let the LLM infer relationships on the fly\n",
    "    allowed_relation_types=None,\n",
    "    # LLM will generate any entity properties, set `None` to skip property generation (will be faster without)\n",
    "    allowed_relation_props=[],\n",
    "    # LLM will generate any relation properties, set `None` to skip property generation (will be faster without)\n",
    "    allowed_entity_props=[],\n",
    ")"
   ]
  },
  {
   "cell_type": "code",
   "execution_count": 23,
   "id": "2f621807-2920-4871-bf80-b5fd538c68b2",
   "metadata": {},
   "outputs": [
    {
     "data": {
      "application/vnd.jupyter.widget-view+json": {
       "model_id": "e2457d521c5e41f7979ab8ecae40e793",
       "version_major": 2,
       "version_minor": 0
      },
      "text/plain": [
       "Parsing nodes:   0%|          | 0/1 [00:00<?, ?it/s]"
      ]
     },
     "metadata": {},
     "output_type": "display_data"
    },
    {
     "name": "stderr",
     "output_type": "stream",
     "text": [
      "Extracting and inferring knowledge graph from text: 100%|█████████████████████████████████████████████| 1/1 [00:08<00:00,  8.46s/it]\n"
     ]
    }
   ],
   "source": [
    "dynamic_index = PropertyGraphIndex.from_documents(\n",
    "    documents,\n",
    "    llm=Settings.llm,\n",
    "    embed_kg_nodes=False,\n",
    "    kg_extractors=[kg_dynamic_extractor],\n",
    "    show_progress=True,\n",
    ")\n",
    "\n",
    "dynamic_index.property_graph_store.save_networkx_graph(\n",
    "    name=\"./DynamicGraph.html\"\n",
    ")"
   ]
  },
  {
   "cell_type": "code",
   "execution_count": 24,
   "id": "5c14fc0d-9a25-4569-ad1e-826751d315a5",
   "metadata": {},
   "outputs": [
    {
     "name": "stdout",
     "output_type": "stream",
     "text": [
      "Yes, dinosaurs are a group of reptiles.\n"
     ]
    }
   ],
   "source": [
    "query_engine = dynamic_index.as_query_engine(\n",
    "    include_text=True,  # include source chunk with matching paths\n",
    "    similarity_top_k=2,  # top k for vector kg node retrieval\n",
    ")\n",
    "response = query_engine.query(\"is Dinosaurs a reptiles?\")\n",
    "\n",
    "print(response)"
   ]
  }
 ],
 "metadata": {
  "kernelspec": {
   "display_name": "llama-index-2",
   "language": "python",
   "name": "llama-index-2"
  },
  "language_info": {
   "codemirror_mode": {
    "name": "ipython",
    "version": 3
   },
   "file_extension": ".py",
   "mimetype": "text/x-python",
   "name": "python",
   "nbconvert_exporter": "python",
   "pygments_lexer": "ipython3",
   "version": "3.11.9"
  }
 },
 "nbformat": 4,
 "nbformat_minor": 5
}
