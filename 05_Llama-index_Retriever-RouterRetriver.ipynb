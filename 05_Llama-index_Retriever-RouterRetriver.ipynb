{
 "cells": [
  {
   "cell_type": "markdown",
   "id": "7c1472cb-ab1f-48fc-b8d2-e369baee4557",
   "metadata": {},
   "source": [
    "## Setting LLM Model"
   ]
  },
  {
   "cell_type": "code",
   "execution_count": 4,
   "id": "0d45b36d-757f-4acd-8083-995138095f70",
   "metadata": {},
   "outputs": [],
   "source": [
    "import nest_asyncio\n",
    "\n",
    "nest_asyncio.apply()"
   ]
  },
  {
   "cell_type": "code",
   "execution_count": 5,
   "id": "a72f3b23-f340-4408-a4da-e9bee96e76a8",
   "metadata": {},
   "outputs": [
    {
     "name": "stdout",
     "output_type": "stream",
     "text": [
      "Open AI -  https://litellm.lab.sains.com.my/ gpt-4o-mini text-embedding-ada-002\n",
      "OLLAMA  -  http://172.26.93.35:888/ llama3.3:70b-instruct-q8_0\n",
      "Local OLLAMA -  http://localhost:11434/ gemma2\n"
     ]
    }
   ],
   "source": [
    "from dotenv import load_dotenv\n",
    "import os\n",
    "\n",
    "load_dotenv()\n",
    "print(\"Open AI - \",os.getenv(\"LITELLM_URL\"),os.getenv(\"OPENAI_API_MODEL\"), os.getenv(\"OPENAI_API_EMBEDDING\"))\n",
    "print(\"OLLAMA  - \",os.getenv(\"OLLAMA_URL\"),os.getenv(\"OLLAMA_MODEL\"))\n",
    "print(\"Local OLLAMA - \",os.getenv(\"OLLAMA_LOCAL_URL\"),os.getenv(\"OLLAMA_LOCAL_MODEL\"))"
   ]
  },
  {
   "cell_type": "code",
   "execution_count": 6,
   "id": "f6c5c71d-7466-40e9-a6d9-e62837f621ea",
   "metadata": {},
   "outputs": [],
   "source": [
    "from llama_index.core import Settings"
   ]
  },
  {
   "attachments": {},
   "cell_type": "markdown",
   "id": "b8a433aa-4f89-4e06-8acd-780e730536bd",
   "metadata": {},
   "source": [
    "### RUN LLM AS OLLAMA "
   ]
  },
  {
   "cell_type": "code",
   "execution_count": null,
   "id": "96176b21-78d2-4446-8e21-3398e1a33730",
   "metadata": {},
   "outputs": [],
   "source": [
    "#install OPEN AI LLM, skip if already installed\n",
    "!pipenv install llama-index-llms-ollama"
   ]
  },
  {
   "cell_type": "code",
   "execution_count": 7,
   "id": "88433662-bed6-4bdf-8991-f02f730792b1",
   "metadata": {},
   "outputs": [
    {
     "name": "stdout",
     "output_type": "stream",
     "text": [
      "HTTP Request: POST http://localhost:11434/api/chat \"HTTP/1.1 200 OK\"\n",
      "The capital of France is **Paris**.  🇫🇷 \n",
      "\n"
     ]
    }
   ],
   "source": [
    "from llama_index.llms.ollama import Ollama\n",
    "api_base=os.getenv(\"OLLAMA_LOCAL_URL\")\n",
    "model=os.getenv(\"OLLAMA_LOCAL_MODEL\")\n",
    "llm = Ollama(model=model, base_url=api_base,request_timeout=120.0)\n",
    "\n",
    "# use remote ollam\n",
    "\"\"\"\n",
    "api_base=os.getenv(\"OLLAMA_URL\")\n",
    "model=os.getenv(\"OLLAMA_MODEL\")\n",
    "llm = Ollama(model=model, base_url=api_base,request_timeout=180.0)\n",
    "\"\"\"\n",
    "#test run\n",
    "response = llm.complete(\"What is the capital of France?\")\n",
    "print(response)"
   ]
  },
  {
   "cell_type": "markdown",
   "id": "d34bf597-435b-464d-afc4-49f852d60479",
   "metadata": {},
   "source": [
    "### RUN LLM AS OPEN AI "
   ]
  },
  {
   "cell_type": "code",
   "execution_count": null,
   "id": "9ca19e9e-777e-4102-a4d2-95327a8275e9",
   "metadata": {},
   "outputs": [],
   "source": [
    "#install OPEN AI LLM, skip if already installed\n",
    "!pipenv install llama-index-llms-openai"
   ]
  },
  {
   "cell_type": "code",
   "execution_count": 21,
   "id": "ab0492e1-cfed-44e3-9e6e-4852a1920290",
   "metadata": {},
   "outputs": [],
   "source": [
    "from llama_index.llms.openai import OpenAI\n",
    "api_base=os.getenv(\"LITELLM_URL\")\n",
    "model=os.getenv(\"OPENAI_API_MODEL\")\n",
    "\n",
    "Settings.llm = OpenAI(\n",
    "    model=model,\n",
    "    api_base = api_base,\n",
    "    temperature=0.3\n",
    ")\n",
    "\n",
    "#resp = Settings.llm.complete(\"What is the capital of France?\")\n",
    "#print(resp)"
   ]
  },
  {
   "cell_type": "markdown",
   "id": "47f57c66-5521-4e24-9197-07ce916f7491",
   "metadata": {},
   "source": [
    "## Setting Embedding Model"
   ]
  },
  {
   "cell_type": "code",
   "execution_count": 8,
   "id": "8f1d1b49-087e-49e3-906b-da53d09fd1e0",
   "metadata": {},
   "outputs": [],
   "source": [
    "# use open AI embedding\n",
    "from llama_index.embeddings.openai import OpenAIEmbedding\n",
    "api_base=os.getenv(\"LITELLM_URL\")\n",
    "embedding_model=os.getenv(\"OPENAI_API_EMBEDDING\")\n",
    "\n",
    "Settings.embed_model = OpenAIEmbedding(\n",
    "    model_name=embedding_model,\n",
    "    api_base = api_base,\n",
    ")\n",
    "#embed_text = Settings.embed_model.get_text_embedding(\"hello\")\n",
    "#print(f\"{len(embed_text)}, {embed_text}\")"
   ]
  },
  {
   "cell_type": "code",
   "execution_count": 11,
   "id": "ed08805f-6e69-4952-b701-59cdf35ddf2a",
   "metadata": {},
   "outputs": [],
   "source": [
    "from llama_index.core import VectorStoreIndex, SimpleDirectoryReader\n",
    "documents = SimpleDirectoryReader(\"./data/paul\").load_data()"
   ]
  },
  {
   "cell_type": "code",
   "execution_count": 12,
   "id": "1cd28b56-ba06-4c70-a66c-67908a4ece59",
   "metadata": {},
   "outputs": [],
   "source": [
    "import logging\n",
    "import sys\n",
    "\n",
    "logging.basicConfig(stream=sys.stdout, level=logging.INFO)\n",
    "logging.getLogger().handlers = []\n",
    "logging.getLogger().addHandler(logging.StreamHandler(stream=sys.stdout))\n",
    "\n",
    "from IPython.display import Markdown, display"
   ]
  },
  {
   "cell_type": "code",
   "execution_count": 13,
   "id": "63f61de0-b210-4fc8-aaf9-a8ba55910257",
   "metadata": {},
   "outputs": [],
   "source": [
    "from llama_index.core.node_parser import SentenceSplitter\n",
    "\n",
    "parser = SentenceSplitter(chunk_size=1024, chunk_overlap=20)\n",
    "nodes = parser.get_nodes_from_documents(documents)"
   ]
  },
  {
   "cell_type": "code",
   "execution_count": 14,
   "id": "56ebfaea-367a-4357-9d42-08e3bac69049",
   "metadata": {},
   "outputs": [],
   "source": [
    "from llama_index.core import (\n",
    "    VectorStoreIndex,\n",
    "    SimpleDirectoryReader,\n",
    "    StorageContext,\n",
    "    SimpleKeywordTableIndex,\n",
    ")\n",
    "from llama_index.core import SummaryIndex"
   ]
  },
  {
   "cell_type": "code",
   "execution_count": 15,
   "id": "3f1a7c60-0717-40fb-813d-93b1d728f3a6",
   "metadata": {},
   "outputs": [],
   "source": [
    "storage_context = StorageContext.from_defaults()\n",
    "storage_context.docstore.add_documents(nodes)"
   ]
  },
  {
   "cell_type": "code",
   "execution_count": 16,
   "id": "2463e165-4452-49e3-baa2-5d5affaabcd9",
   "metadata": {},
   "outputs": [
    {
     "name": "stdout",
     "output_type": "stream",
     "text": [
      "HTTP Request: POST https://litellm.lab.sains.com.my/embeddings \"HTTP/1.1 200 OK\"\n"
     ]
    }
   ],
   "source": [
    "summary_index = SummaryIndex(nodes, storage_context=storage_context)\n",
    "vector_index = VectorStoreIndex(nodes, storage_context=storage_context)\n",
    "keyword_index = SimpleKeywordTableIndex(nodes, storage_context=storage_context)"
   ]
  },
  {
   "cell_type": "code",
   "execution_count": 17,
   "id": "0bdd1931-d162-42b7-91b3-98d38d0c9f48",
   "metadata": {},
   "outputs": [],
   "source": [
    "\n",
    "list_retriever = summary_index.as_retriever()\n",
    "vector_retriever = vector_index.as_retriever()\n",
    "keyword_retriever = keyword_index.as_retriever()"
   ]
  },
  {
   "cell_type": "code",
   "execution_count": 18,
   "id": "45ced4a0-2fd7-47e1-b12b-716b2ff20847",
   "metadata": {},
   "outputs": [],
   "source": [
    "from llama_index.core.tools import RetrieverTool\n",
    "\n",
    "list_tool = RetrieverTool.from_defaults(\n",
    "    retriever=list_retriever,\n",
    "    description=(\n",
    "        \"Will retrieve all context from Paul Graham's essay on What I Worked\"\n",
    "        \" On. Don't use if the question only requires more specific context.\"\n",
    "    ),\n",
    ")\n",
    "vector_tool = RetrieverTool.from_defaults(\n",
    "    retriever=vector_retriever,\n",
    "    description=(\n",
    "        \"Useful for retrieving specific context from Paul Graham essay on What\"\n",
    "        \" I Worked On.\"\n",
    "    ),\n",
    ")\n",
    "keyword_tool = RetrieverTool.from_defaults(\n",
    "    retriever=keyword_retriever,\n",
    "    description=(\n",
    "        \"Useful for retrieving specific context from Paul Graham essay on What\"\n",
    "        \" I Worked On (using entities mentioned in query)\"\n",
    "    ),\n",
    ")"
   ]
  },
  {
   "cell_type": "code",
   "execution_count": 22,
   "id": "bfdc7e34-eaa4-44fd-9ddd-1fa3c1c299bc",
   "metadata": {},
   "outputs": [],
   "source": [
    "from llama_index.core.selectors import LLMSingleSelector, LLMMultiSelector\n",
    "from llama_index.core.selectors import (\n",
    "    PydanticMultiSelector,\n",
    "    PydanticSingleSelector,\n",
    ")\n",
    "from llama_index.core.retrievers import RouterRetriever\n",
    "from llama_index.core.response.notebook_utils import display_source_node"
   ]
  },
  {
   "cell_type": "code",
   "execution_count": 23,
   "id": "839054b8-a83b-4442-9908-39b6e1012b4b",
   "metadata": {},
   "outputs": [],
   "source": [
    "retriever = RouterRetriever(\n",
    "    selector=PydanticSingleSelector.from_defaults(llm=Settings.llm),\n",
    "    retriever_tools=[\n",
    "        list_tool,\n",
    "        vector_tool,\n",
    "    ],\n",
    ")"
   ]
  },
  {
   "cell_type": "code",
   "execution_count": 24,
   "id": "46f1cfc8-6acf-4758-a641-014cbb615b70",
   "metadata": {},
   "outputs": [
    {
     "name": "stdout",
     "output_type": "stream",
     "text": [
      "HTTP Request: POST https://litellm.lab.sains.com.my/chat/completions \"HTTP/1.1 200 OK\"\n",
      "Selecting retriever 0: The question asks for all the context regarding the author's life, which aligns with retrieving all context from the essay..\n"
     ]
    },
    {
     "data": {
      "text/markdown": [
       "**Node ID:** bd01c614-8a2b-4069-96d2-05993d8ceb24<br>**Similarity:** None<br>**Text:** What I Worked On\n",
       "\n",
       "February 2021\n",
       "\n",
       "Before college the two main things I worked on, outside of schoo...<br>"
      ],
      "text/plain": [
       "<IPython.core.display.Markdown object>"
      ]
     },
     "metadata": {},
     "output_type": "display_data"
    },
    {
     "data": {
      "text/markdown": [
       "**Node ID:** fd63cd84-c264-4654-b94d-b24e2ec9ee78<br>**Similarity:** None<br>**Text:** It seemed only a matter of time before we'd have Mike, and when I saw Winograd using SHRDLU, it s...<br>"
      ],
      "text/plain": [
       "<IPython.core.display.Markdown object>"
      ]
     },
     "metadata": {},
     "output_type": "display_data"
    },
    {
     "data": {
      "text/markdown": [
       "**Node ID:** 3d3ed4fd-3cbe-43bd-9930-b1f7a04d6990<br>**Similarity:** None<br>**Text:** There were some surplus Xerox Dandelions floating around the computer lab at one point. Anyone wh...<br>"
      ],
      "text/plain": [
       "<IPython.core.display.Markdown object>"
      ]
     },
     "metadata": {},
     "output_type": "display_data"
    },
    {
     "data": {
      "text/markdown": [
       "**Node ID:** 517e2f5e-bb1b-4e61-a29f-dabbf332f6bf<br>**Similarity:** None<br>**Text:** This was now only weeks away. My nice landlady let me leave my stuff in her attic. I had some mon...<br>"
      ],
      "text/plain": [
       "<IPython.core.display.Markdown object>"
      ]
     },
     "metadata": {},
     "output_type": "display_data"
    },
    {
     "data": {
      "text/markdown": [
       "**Node ID:** ac88b7b2-3937-42c1-bdb9-e6482d8a4ebd<br>**Similarity:** None<br>**Text:** Our teacher, professor Ulivi, was a nice guy. He could see I worked hard, and gave me a good grad...<br>"
      ],
      "text/plain": [
       "<IPython.core.display.Markdown object>"
      ]
     },
     "metadata": {},
     "output_type": "display_data"
    },
    {
     "data": {
      "text/markdown": [
       "**Node ID:** 4edada2c-2549-44aa-b88b-c840ae9f3b2b<br>**Similarity:** None<br>**Text:** A signature style is the visual equivalent of what in show business is known as a \"schtick\": some...<br>"
      ],
      "text/plain": [
       "<IPython.core.display.Markdown object>"
      ]
     },
     "metadata": {},
     "output_type": "display_data"
    },
    {
     "data": {
      "text/markdown": [
       "**Node ID:** 657ef226-8fcb-4b49-be69-7e3741e059bd<br>**Similarity:** None<br>**Text:** That's not how they sell. I wrote some software to generate web sites for galleries, and Robert w...<br>"
      ],
      "text/plain": [
       "<IPython.core.display.Markdown object>"
      ]
     },
     "metadata": {},
     "output_type": "display_data"
    },
    {
     "data": {
      "text/markdown": [
       "**Node ID:** b193d238-c789-4bd7-b710-6c1cd92f2b3d<br>**Similarity:** None<br>**Text:** This is funny in retrospect, because he would still be working on it almost 3 years later. But I ...<br>"
      ],
      "text/plain": [
       "<IPython.core.display.Markdown object>"
      ]
     },
     "metadata": {},
     "output_type": "display_data"
    },
    {
     "data": {
      "text/markdown": [
       "**Node ID:** 22582940-e229-44b2-94f9-d0d522063227<br>**Similarity:** None<br>**Text:** I mistakenly thought the thing that mattered was the absolute number of users. And that is the th...<br>"
      ],
      "text/plain": [
       "<IPython.core.display.Markdown object>"
      ]
     },
     "metadata": {},
     "output_type": "display_data"
    },
    {
     "data": {
      "text/markdown": [
       "**Node ID:** 84a92dc0-9c9f-4d8a-9074-1da2740d0083<br>**Similarity:** None<br>**Text:** I stuck it out for a few more months, then in desperation I went back to New York, where unless y...<br>"
      ],
      "text/plain": [
       "<IPython.core.display.Markdown object>"
      ]
     },
     "metadata": {},
     "output_type": "display_data"
    },
    {
     "data": {
      "text/markdown": [
       "**Node ID:** 451134bf-66c0-4bf1-ab37-1bbb44f0319a<br>**Similarity:** None<br>**Text:** A lot of Lisp hackers dream of building a new Lisp, partly because one of the distinctive feature...<br>"
      ],
      "text/plain": [
       "<IPython.core.display.Markdown object>"
      ]
     },
     "metadata": {},
     "output_type": "display_data"
    },
    {
     "data": {
      "text/markdown": [
       "**Node ID:** 895dee1e-243e-4533-b1ad-78ad70c32fa1<br>**Similarity:** None<br>**Text:** One night in October 2003 there was a big party at my house. It was a clever idea of my friend Ma...<br>"
      ],
      "text/plain": [
       "<IPython.core.display.Markdown object>"
      ]
     },
     "metadata": {},
     "output_type": "display_data"
    },
    {
     "data": {
      "text/markdown": [
       "**Node ID:** 4242c79d-ddb9-4ec2-b3d1-14d3ce9d955d<br>**Similarity:** None<br>**Text:** It was cheap enough to run that we funded it with our own money. That went right by 99% of reader...<br>"
      ],
      "text/plain": [
       "<IPython.core.display.Markdown object>"
      ]
     },
     "metadata": {},
     "output_type": "display_data"
    },
    {
     "data": {
      "text/markdown": [
       "**Node ID:** cd7fb8c4-f5ba-4485-bc1f-25589e4d5d52<br>**Similarity:** None<br>**Text:** I was going to do three things: hack, write essays, and work on YC. As YC grew, and I grew more e...<br>"
      ],
      "text/plain": [
       "<IPython.core.display.Markdown object>"
      ]
     },
     "metadata": {},
     "output_type": "display_data"
    },
    {
     "data": {
      "text/markdown": [
       "**Node ID:** 91a43a94-fa09-42f4-8db7-4cad4359fb15<br>**Similarity:** None<br>**Text:** The stroke destroyed her balance, and she was put in a nursing home, but she really wanted to get...<br>"
      ],
      "text/plain": [
       "<IPython.core.display.Markdown object>"
      ]
     },
     "metadata": {},
     "output_type": "display_data"
    },
    {
     "data": {
      "text/markdown": [
       "**Node ID:** b0c12c03-375e-4435-b7a0-1ec65e8bb0ad<br>**Similarity:** None<br>**Text:** That wouldn't have been feasible at the time. McCarthy tested his interpreter by hand-simulating ...<br>"
      ],
      "text/plain": [
       "<IPython.core.display.Markdown object>"
      ]
     },
     "metadata": {},
     "output_type": "display_data"
    },
    {
     "data": {
      "text/markdown": [
       "**Node ID:** 1fa9c01f-66c5-483c-bf55-5e3a995981a5<br>**Similarity:** None<br>**Text:** It's the everyday words that differ. So if you string together a lot of abstract concepts with a ...<br>"
      ],
      "text/plain": [
       "<IPython.core.display.Markdown object>"
      ]
     },
     "metadata": {},
     "output_type": "display_data"
    },
    {
     "data": {
      "text/markdown": [
       "**Node ID:** e79cc5e1-2db7-41c7-9972-5d8d059f5d65<br>**Similarity:** None<br>**Text:** The YC logo itself is an inside joke: the Viaweb logo had been a white V on a red circle, so I ma...<br>"
      ],
      "text/plain": [
       "<IPython.core.display.Markdown object>"
      ]
     },
     "metadata": {},
     "output_type": "display_data"
    }
   ],
   "source": [
    "\n",
    "# will retrieve all context from the author's life\n",
    "nodes = retriever.retrieve(\n",
    "    \"Can you give me all the context regarding the author's life?\"\n",
    ")\n",
    "for node in nodes:\n",
    "    display_source_node(node)"
   ]
  },
  {
   "cell_type": "code",
   "execution_count": 25,
   "id": "1f1186b9-084b-406e-9396-9de853ad8826",
   "metadata": {},
   "outputs": [
    {
     "name": "stdout",
     "output_type": "stream",
     "text": [
      "HTTP Request: POST https://litellm.lab.sains.com.my/chat/completions \"HTTP/1.1 200 OK\"\n",
      "Selecting retriever 1: The question asks for specific context about Paul Graham's activities after RISD, which aligns with the need for retrieving specific context from his essay..\n",
      "HTTP Request: POST https://litellm.lab.sains.com.my/embeddings \"HTTP/1.1 200 OK\"\n"
     ]
    },
    {
     "data": {
      "text/markdown": [
       "**Node ID:** 3d3ed4fd-3cbe-43bd-9930-b1f7a04d6990<br>**Similarity:** 0.57754556660963<br>**Text:** There were some surplus Xerox Dandelions floating around the computer lab at one point. Anyone wh...<br>"
      ],
      "text/plain": [
       "<IPython.core.display.Markdown object>"
      ]
     },
     "metadata": {},
     "output_type": "display_data"
    },
    {
     "data": {
      "text/markdown": [
       "**Node ID:** ac88b7b2-3937-42c1-bdb9-e6482d8a4ebd<br>**Similarity:** 0.5671975996213687<br>**Text:** Our teacher, professor Ulivi, was a nice guy. He could see I worked hard, and gave me a good grad...<br>"
      ],
      "text/plain": [
       "<IPython.core.display.Markdown object>"
      ]
     },
     "metadata": {},
     "output_type": "display_data"
    }
   ],
   "source": [
    "nodes = retriever.retrieve(\"What did Paul Graham do after RISD?\")\n",
    "for node in nodes:\n",
    "    display_source_node(node)"
   ]
  },
  {
   "cell_type": "code",
   "execution_count": 27,
   "id": "35ee252f-940f-4916-b6e4-3a58658a9c48",
   "metadata": {},
   "outputs": [],
   "source": [
    "retriever = RouterRetriever(\n",
    "    selector=PydanticMultiSelector.from_defaults(llm=Settings.llm),\n",
    "    retriever_tools=[list_tool, vector_tool, keyword_tool],\n",
    ")"
   ]
  },
  {
   "cell_type": "code",
   "execution_count": 28,
   "id": "6cd99d1d-5c93-4bde-8093-a5399328dec0",
   "metadata": {},
   "outputs": [
    {
     "name": "stdout",
     "output_type": "stream",
     "text": [
      "HTTP Request: POST https://litellm.lab.sains.com.my/chat/completions \"HTTP/1.1 200 OK\"\n",
      "Selecting retriever 1: The question asks for specific context regarding notable events, making this choice appropriate for retrieving that information..\n",
      "HTTP Request: POST https://litellm.lab.sains.com.my/embeddings \"HTTP/1.1 200 OK\"\n",
      "Selecting retriever 2: This choice is also relevant as it allows for retrieving specific context using entities mentioned in the query, which may include Interleaf and YC..\n",
      "> Starting query: What were noteable events from the authors time at Interleaf and YC?\n",
      "query keywords: ['interleaf', 'events', 'yc', 'time', 'noteable', 'authors']\n",
      "> Extracted keywords: ['interleaf', 'yc', 'time']\n"
     ]
    },
    {
     "data": {
      "text/markdown": [
       "**Node ID:** e79cc5e1-2db7-41c7-9972-5d8d059f5d65<br>**Similarity:** None<br>**Text:** The YC logo itself is an inside joke: the Viaweb logo had been a white V on a red circle, so I ma...<br>"
      ],
      "text/plain": [
       "<IPython.core.display.Markdown object>"
      ]
     },
     "metadata": {},
     "output_type": "display_data"
    },
    {
     "data": {
      "text/markdown": [
       "**Node ID:** ac88b7b2-3937-42c1-bdb9-e6482d8a4ebd<br>**Similarity:** None<br>**Text:** Our teacher, professor Ulivi, was a nice guy. He could see I worked hard, and gave me a good grad...<br>"
      ],
      "text/plain": [
       "<IPython.core.display.Markdown object>"
      ]
     },
     "metadata": {},
     "output_type": "display_data"
    },
    {
     "data": {
      "text/markdown": [
       "**Node ID:** 91a43a94-fa09-42f4-8db7-4cad4359fb15<br>**Similarity:** None<br>**Text:** The stroke destroyed her balance, and she was put in a nursing home, but she really wanted to get...<br>"
      ],
      "text/plain": [
       "<IPython.core.display.Markdown object>"
      ]
     },
     "metadata": {},
     "output_type": "display_data"
    },
    {
     "data": {
      "text/markdown": [
       "**Node ID:** cd7fb8c4-f5ba-4485-bc1f-25589e4d5d52<br>**Similarity:** None<br>**Text:** I was going to do three things: hack, write essays, and work on YC. As YC grew, and I grew more e...<br>"
      ],
      "text/plain": [
       "<IPython.core.display.Markdown object>"
      ]
     },
     "metadata": {},
     "output_type": "display_data"
    },
    {
     "data": {
      "text/markdown": [
       "**Node ID:** 4242c79d-ddb9-4ec2-b3d1-14d3ce9d955d<br>**Similarity:** None<br>**Text:** It was cheap enough to run that we funded it with our own money. That went right by 99% of reader...<br>"
      ],
      "text/plain": [
       "<IPython.core.display.Markdown object>"
      ]
     },
     "metadata": {},
     "output_type": "display_data"
    },
    {
     "data": {
      "text/markdown": [
       "**Node ID:** 22582940-e229-44b2-94f9-d0d522063227<br>**Similarity:** None<br>**Text:** I mistakenly thought the thing that mattered was the absolute number of users. And that is the th...<br>"
      ],
      "text/plain": [
       "<IPython.core.display.Markdown object>"
      ]
     },
     "metadata": {},
     "output_type": "display_data"
    },
    {
     "data": {
      "text/markdown": [
       "**Node ID:** 84a92dc0-9c9f-4d8a-9074-1da2740d0083<br>**Similarity:** None<br>**Text:** I stuck it out for a few more months, then in desperation I went back to New York, where unless y...<br>"
      ],
      "text/plain": [
       "<IPython.core.display.Markdown object>"
      ]
     },
     "metadata": {},
     "output_type": "display_data"
    },
    {
     "data": {
      "text/markdown": [
       "**Node ID:** b0c12c03-375e-4435-b7a0-1ec65e8bb0ad<br>**Similarity:** None<br>**Text:** That wouldn't have been feasible at the time. McCarthy tested his interpreter by hand-simulating ...<br>"
      ],
      "text/plain": [
       "<IPython.core.display.Markdown object>"
      ]
     },
     "metadata": {},
     "output_type": "display_data"
    },
    {
     "data": {
      "text/markdown": [
       "**Node ID:** 517e2f5e-bb1b-4e61-a29f-dabbf332f6bf<br>**Similarity:** None<br>**Text:** This was now only weeks away. My nice landlady let me leave my stuff in her attic. I had some mon...<br>"
      ],
      "text/plain": [
       "<IPython.core.display.Markdown object>"
      ]
     },
     "metadata": {},
     "output_type": "display_data"
    },
    {
     "data": {
      "text/markdown": [
       "**Node ID:** fd63cd84-c264-4654-b94d-b24e2ec9ee78<br>**Similarity:** None<br>**Text:** It seemed only a matter of time before we'd have Mike, and when I saw Winograd using SHRDLU, it s...<br>"
      ],
      "text/plain": [
       "<IPython.core.display.Markdown object>"
      ]
     },
     "metadata": {},
     "output_type": "display_data"
    }
   ],
   "source": [
    "nodes = retriever.retrieve(\n",
    "    \"What were noteable events from the authors time at Interleaf and YC?\"\n",
    ")\n",
    "for node in nodes:\n",
    "    display_source_node(node)"
   ]
  },
  {
   "cell_type": "code",
   "execution_count": null,
   "id": "3d63b36a-3a0b-42dc-801c-f32c9353910e",
   "metadata": {},
   "outputs": [],
   "source": []
  }
 ],
 "metadata": {
  "kernelspec": {
   "display_name": "llamaIndex",
   "language": "python",
   "name": "llama_index"
  },
  "language_info": {
   "codemirror_mode": {
    "name": "ipython",
    "version": 3
   },
   "file_extension": ".py",
   "mimetype": "text/x-python",
   "name": "python",
   "nbconvert_exporter": "python",
   "pygments_lexer": "ipython3",
   "version": "3.11.9"
  }
 },
 "nbformat": 4,
 "nbformat_minor": 5
}
